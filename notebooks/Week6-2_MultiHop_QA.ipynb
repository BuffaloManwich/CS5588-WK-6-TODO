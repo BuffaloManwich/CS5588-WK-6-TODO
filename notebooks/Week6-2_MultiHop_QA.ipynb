{
 "cells": [
  {
   "cell_type": "markdown",
   "id": "d0f575b8",
   "metadata": {},
   "source": [
    "# Week 6 — Multi-Hop Reasoning (Self-Ask / Decomposition)\n",
    "**Goal:** Break complex questions into hops and answer each with RAG/Graph-RAG.\n"
   ]
  },
  {
   "cell_type": "code",
   "execution_count": null,
   "id": "c7c3d7be",
   "metadata": {},
   "outputs": [],
   "source": [
    "\n",
    "#@title Setup\n",
    "import os, re, json, time\n",
    "import networkx as nx\n",
    "import pandas as pd\n",
    "\n",
    "DATA_DIR = \"./data_week6\"\n",
    "G = nx.Graph()\n",
    "def ensure_demo_graph():\n",
    "    if len(G.nodes())>0: return\n",
    "    nodes = [(\"Method X\",\"METHOD\"),(\"Author A\",\"AUTHOR\"),(\"Dataset D1\",\"DATASET\"),(\"Paper P3\",\"PAPER\"),(\"Metric F1\",\"METRIC\")]\n",
    "    for n,t in nodes: G.add_node(n, type=t)\n",
    "    G.add_edge(\"Method X\",\"Author A\", doc_id=\"doc1\", sentence=\"Method X was introduced by Author A.\")\n",
    "    G.add_edge(\"Method X\",\"Dataset D1\", doc_id=\"doc1\", sentence=\"Method X compared on Dataset D1 with F1=0.78.\")\n",
    "    G.add_edge(\"Method X\",\"Paper P3\", doc_id=\"doc4\", sentence=\"Paper P3 applies Method X to Dataset D2 and reports Accuracy 0.82.\")\n",
    "    G.add_edge(\"Dataset D1\",\"Metric F1\", doc_id=\"doc1\", sentence=\"F1 reported for D1.\")\n",
    "ensure_demo_graph()\n",
    "len(G.nodes()), len(G.edges())\n"
   ]
  },
  {
   "cell_type": "markdown",
   "id": "47a2fba3",
   "metadata": {},
   "source": [
    "## 1. Decompose Query"
   ]
  },
  {
   "cell_type": "code",
   "execution_count": null,
   "id": "831efdb3",
   "metadata": {},
   "outputs": [],
   "source": [
    "\n",
    "def decompose(query: str):\n",
    "    q = query.lower()\n",
    "    if \"introduced\" in q and \"method x\" in q and \"dataset\" in q:\n",
    "        return [\"Which paper introduced Method X?\",\"Which dataset did that paper use for F1?\"]\n",
    "    return [query]\n",
    "\n",
    "decompose(\"Which dataset did the paper that introduced Method X use for F1?\")\n"
   ]
  },
  {
   "cell_type": "markdown",
   "id": "de7992eb",
   "metadata": {},
   "source": [
    "## 2. Execute Hops with Graph Evidence"
   ]
  },
  {
   "cell_type": "code",
   "execution_count": null,
   "id": "f12d339b",
   "metadata": {},
   "outputs": [],
   "source": [
    "\n",
    "def neighbors_for(node):\n",
    "    spans = []\n",
    "    if node not in G: return spans\n",
    "    for u,v,data in G.edges(node, data=True):\n",
    "        spans.append({\"doc_id\": data.get(\"doc_id\"), \"sentence\": data.get(\"sentence\")})\n",
    "    return spans\n",
    "\n",
    "def answer_subq(subq, memory):\n",
    "    if \"introduced method x\" in subq.lower():\n",
    "        spans = neighbors_for(\"Method X\")\n",
    "        return {\"subq\": subq, \"answer\": \"Paper P3 (demo)\", \"evidence\": spans}\n",
    "    if \"dataset\" in subq.lower() and \"paper\" in subq.lower():\n",
    "        spans = neighbors_for(\"Dataset D1\")\n",
    "        return {\"subq\": subq, \"answer\": \"Dataset D1 (demo)\", \"evidence\": spans}\n",
    "    return {\"subq\": subq, \"answer\": \"Demo answer\", \"evidence\": []}\n",
    "\n",
    "def multi_hop(query):\n",
    "    subs = decompose(query)\n",
    "    memory = {}\n",
    "    hops = []\n",
    "    for s in subs:\n",
    "        h = answer_subq(s, memory)\n",
    "        hops.append(h)\n",
    "        memory[len(hops)] = h[\"answer\"]\n",
    "    final = \" ; \".join(h[\"answer\"] for h in hops)\n",
    "    cites = sorted({ev[\"doc_id\"] for h in hops for ev in h[\"evidence\"]})\n",
    "    return {\"query\": query, \"subqs\": subs, \"hops\": hops, \"final\": final, \"citations\": cites}\n",
    "\n",
    "out = multi_hop(\"Which dataset did the paper that introduced Method X use for F1?\")\n",
    "out\n"
   ]
  },
  {
   "cell_type": "markdown",
   "id": "46b82def",
   "metadata": {},
   "source": [
    "## 3. Print Trace"
   ]
  },
  {
   "cell_type": "code",
   "execution_count": null,
   "id": "9d0733d7",
   "metadata": {},
   "outputs": [],
   "source": [
    "\n",
    "print(\"Final:\", out[\"final\"])\n",
    "print(\"Citations:\", out[\"citations\"])\n",
    "for i, h in enumerate(out[\"hops\"], 1):\n",
    "    print(f\"Hop {i}: {h['subq']} -> {h['answer']}\")\n",
    "    for ev in h[\"evidence\"][:2]:\n",
    "        print(\"  -\", ev[\"doc_id\"], \":\", ev[\"sentence\"])\n"
   ]
  }
 ],
 "metadata": {
  "colab": {
   "name": "Week6-2_MultiHop_QA.ipynb"
  }
 },
 "nbformat": 4,
 "nbformat_minor": 5
}
