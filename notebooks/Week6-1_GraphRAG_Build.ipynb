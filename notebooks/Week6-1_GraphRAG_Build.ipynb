{
 "cells": [
  {
   "cell_type": "markdown",
   "id": "6d98db59",
   "metadata": {},
   "source": [
    "# Week 6 — Graph-RAG over Your Corpus\n",
    "**Goal:** Build an entity graph from your corpus and retrieve evidence using neighborhood expansion.\n",
    "\n",
    "**Colab tips:** You can run this notebook in Colab. If using your own PDFs, mount Drive.\n"
   ]
  },
  {
   "cell_type": "code",
   "execution_count": null,
   "id": "11775db6",
   "metadata": {},
   "outputs": [],
   "source": [
    "\n",
    "#@title Setup (Colab-friendly)\n",
    "import os, re, json, math, time, random\n",
    "import numpy as np\n",
    "import pandas as pd\n",
    "import networkx as nx\n",
    "from collections import defaultdict\n",
    "from typing import List, Dict, Tuple\n",
    "\n",
    "DATA_DIR = \"./data_week6\"\n",
    "os.makedirs(DATA_DIR, exist_ok=True)\n",
    "\n",
    "corpus_path = os.path.join(DATA_DIR, \"corpus.csv\")\n",
    "if not os.path.exists(corpus_path):\n",
    "    demo = pd.DataFrame({\n",
    "        \"doc_id\": [f\"doc{i}\" for i in range(1,6)],\n",
    "        \"text\": [\n",
    "            \"Method X was introduced by Author A and compared on Dataset D1 with F1=0.78.\",\n",
    "            \"Author A collaborated with Author B; Method X improved Metric F1 on D1.\",\n",
    "            \"Dataset D2 was used to evaluate Method Y introduced by Author C.\",\n",
    "            \"Paper P3 applies Method X to Dataset D2 and reports Accuracy 0.82.\",\n",
    "            \"Survey S1 links Method Y, Dataset D2, and Metric AUC.\"\n",
    "        ]\n",
    "    })\n",
    "    demo.to_csv(corpus_path, index=False)\n",
    "corpus = pd.read_csv(corpus_path)\n",
    "corpus.head()\n"
   ]
  },
  {
   "cell_type": "markdown",
   "id": "f1f39fd8",
   "metadata": {},
   "source": [
    "## 1. Lightweight Entity Extraction"
   ]
  },
  {
   "cell_type": "code",
   "execution_count": null,
   "id": "73f8c8d2",
   "metadata": {},
   "outputs": [],
   "source": [
    "\n",
    "ENTITY_PATTERNS = {\n",
    "    \"METHOD\": r\"Method\\s+[A-Z][A-Za-z0-9]*\",\n",
    "    \"AUTHOR\": r\"Author\\s+[A-Z]\",\n",
    "    \"DATASET\": r\"Dataset\\s+[A-Z0-9]+\",\n",
    "    \"PAPER\": r\"Paper\\s+[A-Z0-9]+|Survey\\s+[A-Z0-9]+\",\n",
    "    \"METRIC\": r\"F1|Accuracy|AUC\"\n",
    "}\n",
    "import re\n",
    "def extract_entities(text: str):\n",
    "    ents = []\n",
    "    for typ, pat in ENTITY_PATTERNS.items():\n",
    "        for m in re.finditer(pat, text):\n",
    "            ents.append((m.group(0), typ, m.start(), m.end()))\n",
    "    return ents\n",
    "\n",
    "rows = []\n",
    "for _, r in corpus.iterrows():\n",
    "    ents = extract_entities(r[\"text\"])\n",
    "    for e, typ, s, t in ents:\n",
    "        rows.append({\"doc_id\": r[\"doc_id\"], \"entity\": e, \"type\": typ, \"start\": s, \"end\": t, \"span\": r[\"text\"][max(0,s-40):min(len(r['text']),t+40)]})\n",
    "ents_df = pd.DataFrame(rows)\n",
    "ents_df.head(10)\n"
   ]
  },
  {
   "cell_type": "markdown",
   "id": "1e05d89a",
   "metadata": {},
   "source": [
    "## 2. Relation Extraction (Co-occurrence within sentence)"
   ]
  },
  {
   "cell_type": "code",
   "execution_count": null,
   "id": "bef0a53f",
   "metadata": {},
   "outputs": [],
   "source": [
    "\n",
    "def sentence_split(text):\n",
    "    import re\n",
    "    return re.split(r\"(?<=[.!?])\\s+\", text)\n",
    "\n",
    "edges = []\n",
    "for _, r in corpus.iterrows():\n",
    "    for sent in sentence_split(r[\"text\"]):\n",
    "        ents = extract_entities(sent)\n",
    "        for i in range(len(ents)):\n",
    "            for j in range(i+1, len(ents)):\n",
    "                e1, t1, *_ = ents[i]\n",
    "                e2, t2, *_ = ents[j]\n",
    "                edges.append({\"doc_id\": r[\"doc_id\"], \"head\": e1, \"type1\": t1, \"tail\": e2, \"type2\": t2, \"sentence\": sent})\n",
    "\n",
    "edges_df = pd.DataFrame(edges)\n",
    "edges_df.head(10)\n"
   ]
  },
  {
   "cell_type": "markdown",
   "id": "ee343131",
   "metadata": {},
   "source": [
    "## 3. Build Graph (NetworkX) and Attach Evidence"
   ]
  },
  {
   "cell_type": "code",
   "execution_count": null,
   "id": "b35c06f4",
   "metadata": {},
   "outputs": [],
   "source": [
    "\n",
    "G = nx.Graph()\n",
    "for _, e in ents_df.iterrows():\n",
    "    G.add_node(e[\"entity\"], type=e[\"type\"])\n",
    "\n",
    "for _, ed in edges_df.iterrows():\n",
    "    G.add_edge(ed[\"head\"], ed[\"tail\"], doc_id=ed[\"doc_id\"], sentence=ed[\"sentence\"])\n",
    "\n",
    "len(G.nodes()), len(G.edges())\n"
   ]
  },
  {
   "cell_type": "markdown",
   "id": "ea6c60be",
   "metadata": {},
   "source": [
    "## 4. Graph-aware Retrieval"
   ]
  },
  {
   "cell_type": "code",
   "execution_count": null,
   "id": "64233adf",
   "metadata": {},
   "outputs": [],
   "source": [
    "\n",
    "def detect_seed_entities(query: str):\n",
    "    seeds = []\n",
    "    for node in G.nodes():\n",
    "        if node.lower().split()[-1] in query.lower():\n",
    "            seeds.append(node)\n",
    "    for node, data in G.nodes(data=True):\n",
    "        if data.get(\"type\") in (\"METHOD\",\"DATASET\") and data[\"type\"].lower() in query.lower():\n",
    "            seeds.append(node)\n",
    "    return list(dict.fromkeys(seeds))\n",
    "\n",
    "def neighborhood_evidence(seeds, hops=1, max_spans=12):\n",
    "    spans = []\n",
    "    seen_edges = set()\n",
    "    for s in seeds:\n",
    "        nodes = nx.single_source_shortest_path_length(G, s, cutoff=hops).keys()\n",
    "        for u in nodes:\n",
    "            for v in G.neighbors(u):\n",
    "                e = tuple(sorted([u, v]))\n",
    "                if e in seen_edges: \n",
    "                    continue\n",
    "                seen_edges.add(e)\n",
    "                data = G.get_edge_data(u, v)\n",
    "                spans.append({\"u\": u, \"v\": v, \"doc_id\": data.get(\"doc_id\"), \"sentence\": data.get(\"sentence\")})\n",
    "                if len(spans) >= max_spans: \n",
    "                    return spans\n",
    "    return spans\n",
    "\n",
    "def graph_rag(query: str, hops=1):\n",
    "    seeds = detect_seed_entities(query)\n",
    "    spans = neighborhood_evidence(seeds, hops=hops)\n",
    "    return {\"seeds\": seeds, \"spans\": spans}\n",
    "\n",
    "demo_out = graph_rag(\"Which dataset evaluated Method X with F1?\")\n",
    "demo_out\n"
   ]
  },
  {
   "cell_type": "markdown",
   "id": "e0a5ba29",
   "metadata": {},
   "source": [
    "## 5. Prompt Assembly (stub)"
   ]
  },
  {
   "cell_type": "code",
   "execution_count": null,
   "id": "a8ddbb51",
   "metadata": {},
   "outputs": [],
   "source": [
    "\n",
    "def assemble_prompt(query, seeds, spans):\n",
    "    ev_lines = [f\"- ({s['doc_id']}) {s['sentence']}\" for s in spans]\n",
    "    return f\"\"\"System: Answer using ONLY the evidence and cite (doc_id).\n",
    "Query: {query}\n",
    "\n",
    "Seeds: {', '.join(seeds)}\n",
    "\n",
    "Evidence:\\n\"\"\" + \"\\n\".join(ev_lines) + \"\\n\\nAnswer:\"\n",
    "\n",
    "print(assemble_prompt(\"Which dataset evaluated Method X with F1?\", demo_out[\"seeds\"], demo_out[\"spans\"]))\n"
   ]
  },
  {
   "cell_type": "markdown",
   "id": "5a824cc6",
   "metadata": {},
   "source": [
    "## 6. Optional: Graph Visualization"
   ]
  },
  {
   "cell_type": "code",
   "execution_count": null,
   "id": "2618481f",
   "metadata": {},
   "outputs": [],
   "source": [
    "\n",
    "import matplotlib.pyplot as plt\n",
    "pos = nx.spring_layout(G, seed=7)\n",
    "type_to_color = {\"METHOD\":\"#6aa84f\",\"AUTHOR\":\"#3c78d8\",\"DATASET\":\"#cc0000\",\"PAPER\":\"#674ea7\",\"METRIC\":\"#e69138\"}\n",
    "node_colors = [type_to_color.get(G.nodes[n].get(\"type\",\"\"), \"#999\") for n in G.nodes()]\n",
    "plt.figure(figsize=(6,4))\n",
    "nx.draw(G, pos, with_labels=True, node_color=node_colors, node_size=900, font_size=9, edge_color=\"#bbb\")\n",
    "plt.title(\"Entity Graph (demo)\"); plt.tight_layout(); plt.show()\n"
   ]
  }
 ],
 "metadata": {
  "colab": {
   "name": "Week6-1_GraphRAG_Build.ipynb"
  }
 },
 "nbformat": 4,
 "nbformat_minor": 5
}
